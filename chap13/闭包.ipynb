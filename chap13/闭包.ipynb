{
 "cells": [
  {
   "cell_type": "code",
   "outputs": [],
   "source": [
    "x = 5\n",
    "def equal_to_x(n):\n",
    "    assert n == x # 在rust中，函数无法访问上下文中的变量，闭包可以；在python中，函数可以访问上下文中的变量，但是不能修改，除非使用global关键字\n",
    "equal_to_x(5)"
   ],
   "metadata": {
    "collapsed": false,
    "ExecuteTime": {
     "end_time": "2024-01-16T01:27:27.038325Z",
     "start_time": "2024-01-16T01:27:27.027294200Z"
    }
   },
   "id": "9d8c1f8c873d3928",
   "execution_count": 3
  },
  {
   "cell_type": "code",
   "outputs": [
    {
     "ename": "AssertionError",
     "evalue": "",
     "output_type": "error",
     "traceback": [
      "\u001B[1;31m---------------------------------------------------------------------------\u001B[0m",
      "\u001B[1;31mAssertionError\u001B[0m                            Traceback (most recent call last)",
      "Input \u001B[1;32mIn [4]\u001B[0m, in \u001B[0;36m<cell line: 5>\u001B[1;34m()\u001B[0m\n\u001B[0;32m      3\u001B[0m     \u001B[38;5;28;01massert\u001B[39;00m n \u001B[38;5;241m==\u001B[39m x\n\u001B[0;32m      4\u001B[0m x \u001B[38;5;241m=\u001B[39m \u001B[38;5;241m10\u001B[39m\n\u001B[1;32m----> 5\u001B[0m \u001B[43mequal_to_x\u001B[49m\u001B[43m(\u001B[49m\u001B[38;5;241;43m5\u001B[39;49m\u001B[43m)\u001B[49m\n",
      "Input \u001B[1;32mIn [4]\u001B[0m, in \u001B[0;36mequal_to_x\u001B[1;34m(n)\u001B[0m\n\u001B[0;32m      2\u001B[0m \u001B[38;5;28;01mdef\u001B[39;00m \u001B[38;5;21mequal_to_x\u001B[39m(n):\n\u001B[1;32m----> 3\u001B[0m     \u001B[38;5;28;01massert\u001B[39;00m n \u001B[38;5;241m==\u001B[39m x\n",
      "\u001B[1;31mAssertionError\u001B[0m: "
     ]
    }
   ],
   "source": [
    "x = 5\n",
    "def equal_to_x(n):\n",
    "    assert n == x\n",
    "x = 10\n",
    "equal_to_x(5)"
   ],
   "metadata": {
    "collapsed": false,
    "ExecuteTime": {
     "end_time": "2024-01-16T01:27:27.653619Z",
     "start_time": "2024-01-16T01:27:27.613604800Z"
    }
   },
   "id": "634cd0a28dd8c83f",
   "execution_count": 4
  }
 ],
 "metadata": {
  "kernelspec": {
   "display_name": "Python 3",
   "language": "python",
   "name": "python3"
  },
  "language_info": {
   "codemirror_mode": {
    "name": "ipython",
    "version": 2
   },
   "file_extension": ".py",
   "mimetype": "text/x-python",
   "name": "python",
   "nbconvert_exporter": "python",
   "pygments_lexer": "ipython2",
   "version": "2.7.6"
  }
 },
 "nbformat": 4,
 "nbformat_minor": 5
}
